{
 "cells": [
  {
   "cell_type": "code",
   "execution_count": null,
   "id": "01a2b0e5",
   "metadata": {},
   "outputs": [],
   "source": [
    "from functools import partial\n",
    "from pathlib import Path\n",
    "\n",
    "import colorcet as cc\n",
    "import diffrax as dfx\n",
    "import equinox as eqx\n",
    "import jax\n",
    "import jax.numpy as jnp\n",
    "import matplotlib.pyplot as plt\n",
    "import numpy as np\n",
    "from dynamical_systems.analysis import lyapunov_gr\n",
    "from dynamical_systems.analysis.jacobian import jacobian\n",
    "from dynamical_systems.continuous import Lorenz63\n",
    "from dynamical_systems.metrics import (\n",
    "    cosine_similarity as cosine_similarity,\n",
    "    maximum_mean_discrepancy as maximum_mean_discrepancy,\n",
    "    mean_squared_error as mean_squared_error,\n",
    "    sinkhorn_divergence as sinkhorn_divergence,\n",
    ")\n",
    "from dynamics_discovery.dataset import TimeSeriesDataset\n",
    "from dynamics_discovery.io import load_model\n",
    "from dynamics_discovery.metrics.error import relative_error_norm\n",
    "from dynamics_discovery.preprocessing import (\n",
    "    add_noise,\n",
    "    split_into_chunks,\n",
    "    standardize,\n",
    ")\n",
    "from matplotlib_utils.axes_setters import set_labels\n",
    "from matplotlib_utils.plots import colored_scatterplot, plot_line_and_band\n",
    "\n",
    "\n",
    "plt.style.use(\"matplotlib_utils.styles.dash_gridded\")\n",
    "jax.config.update(\"jax_enable_x64\", True)\n",
    "\n",
    "datadir = Path(\"../../data\")\n",
    "loaddir = Path(\"../../results/lorenz96\")\n",
    "\n",
    "dataset = TimeSeriesDataset.load(datadir / \"lorenz96_6d.hdf5\").to_numpy()"
   ]
  }
 ],
 "metadata": {
  "kernelspec": {
   "display_name": ".venv",
   "language": "python",
   "name": "python3"
  },
  "language_info": {
   "name": "python",
   "version": "3.12.9"
  }
 },
 "nbformat": 4,
 "nbformat_minor": 5
}
