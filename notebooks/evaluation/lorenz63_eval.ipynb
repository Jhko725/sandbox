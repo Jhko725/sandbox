{
 "cells": [
  {
   "cell_type": "code",
   "execution_count": null,
   "id": "01a2b0e5",
   "metadata": {},
   "outputs": [],
   "source": [
    "from pathlib import Path\n",
    "\n",
    "import jax\n",
    "import matplotlib.pyplot as plt\n",
    "from dynamical_systems.metrics import (\n",
    "    cosine_similarity as cosine_similarity,\n",
    "    maximum_mean_discrepancy as maximum_mean_discrepancy,\n",
    "    mean_squared_error as mean_squared_error,\n",
    "    sinkhorn_divergence as sinkhorn_divergence,\n",
    ")\n",
    "from dynamics_discovery.dataset import TimeSeriesDataset\n",
    "\n",
    "\n",
    "plt.style.use(\"matplotlib_utils.styles.dash_gridded\")\n",
    "jax.config.update(\"jax_enable_x64\", True)\n",
    "\n",
    "datadir = Path(\"../../data\")\n",
    "loaddir = Path(\"../../results/lorenz96\")\n",
    "\n",
    "dataset = TimeSeriesDataset.load(datadir / \"lorenz96_6d.hdf5\").to_numpy()"
   ]
  }
 ],
 "metadata": {
  "kernelspec": {
   "display_name": ".venv",
   "language": "python",
   "name": "python3"
  },
  "language_info": {
   "name": "python",
   "version": "3.12.9"
  }
 },
 "nbformat": 4,
 "nbformat_minor": 5
}
