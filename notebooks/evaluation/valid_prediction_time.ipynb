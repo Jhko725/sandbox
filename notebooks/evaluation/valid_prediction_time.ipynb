{
 "cells": [
  {
   "cell_type": "code",
   "execution_count": 1,
   "id": "c00f6048",
   "metadata": {},
   "outputs": [],
   "source": [
    "from pathlib import Path\n",
    "\n",
    "import equinox as eqx\n",
    "import jax\n",
    "import jax.numpy as jnp\n",
    "import matplotlib.pyplot as plt\n",
    "import numpy as np\n",
    "from dynamical_systems.continuous import solve_ode\n",
    "from dynamical_systems.metrics import (\n",
    "    cosine_similarity as cosine_similarity,\n",
    "    maximum_mean_discrepancy as maximum_mean_discrepancy,\n",
    "    mean_squared_error as mean_squared_error,\n",
    "    sinkhorn_divergence as sinkhorn_divergence,\n",
    ")\n",
    "from dynamics_discovery.data import TimeSeriesDataset\n",
    "from dynamics_discovery.misc import load_experiment\n",
    "from jaxtyping import Array, Float\n",
    "from ott.utils import batched_vmap\n",
    "from tqdm import tqdm\n",
    "\n",
    "\n",
    "plt.style.use(\"matplotlib_utils.styles.dash_gridded\")\n",
    "jax.config.update(\"jax_enable_x64\", True)\n",
    "\n",
    "SYSTEMS = (\"lorenz63\", \"rossler76\", \"hyperchen05\")\n",
    "DATASET_PATHS = {\n",
    "    \"lorenz63\": {\"train\": \"lorenz63_large.hdf5\", \"test\": \"lorenz63_large_test.hdf5\"},\n",
    "    \"rossler76\": {\"train\": \"rossler76_train.hdf5\", \"test\": \"rossler76_test.hdf5\"},\n",
    "    \"hyperchen05\": {\"train\": \"hyperchen05_train.hdf5\", \"test\": \"hyperchen05_test.hdf5\"},\n",
    "}\n",
    "EXP_TYPES_ALL = (\n",
    "    \"vanilla\",\n",
    "    \"jacobian\",\n",
    "    \"tangent_evolution\",\n",
    "    \"neighborhood\",\n",
    "    \"normal\",\n",
    "    \"proxy_tangent_evolution\",\n",
    ")\n",
    "EXP_TYPES = (\n",
    "    \"vanilla\",\n",
    "    \"jacobian\",\n",
    "    \"tangent_evolution\",\n",
    "    # \"proxy_tangent_evolution\",\n",
    "    \"neighborhood\",\n",
    ")\n",
    "COLOR_DICT = dict(\n",
    "    zip(\n",
    "        EXP_TYPES_ALL,\n",
    "        (\"royalblue\", \"limegreen\", \"darkorange\", \"orangered\", \"saddlebrown\", \"purple\"),\n",
    "    )\n",
    ")\n",
    "LABEL_DICT = dict(\n",
    "    zip(\n",
    "        EXP_TYPES_ALL,\n",
    "        (\n",
    "            \"Vanilla\",\n",
    "            \"Jacobian matching\",\n",
    "            \"Tangent Evolution matching\",\n",
    "            \"Neighborhood-based (ours)\",\n",
    "            \"Normal-based (ours)\",\n",
    "            \"Identity (ours)\",\n",
    "        ),\n",
    "    )\n",
    ")\n",
    "\n",
    "datadir = Path(\"../../data\")"
   ]
  },
  {
   "cell_type": "code",
   "execution_count": 2,
   "id": "265e1daf",
   "metadata": {},
   "outputs": [],
   "source": [
    "@eqx.filter_jit\n",
    "def solve_batch(model, t, u0_batch):\n",
    "    def _solve(u0_):\n",
    "        return solve_ode(model, t, u0_, rtol=1e-4, atol=1e-6, max_steps=None)\n",
    "\n",
    "    return batched_vmap(_solve, batch_size=5000)(u0_batch)\n",
    "\n",
    "\n",
    "def root_mean_square_error(\n",
    "    x_true: Float[Array, \"batch time dim\"],\n",
    "    x_pred: Float[Array, \"batch time dim\"],\n",
    ") -> Float[Array, \" time\"]:\n",
    "    \"\"\"\n",
    "    Compute cosine similarity between two batches of points along an axis.\n",
    "\n",
    "    The shapes of the two input arrays must be identical at axis dimension\n",
    "    and broadcastable along all other dimensions.\n",
    "    \"\"\"\n",
    "    return jnp.mean(jnp.sqrt(jnp.mean((x_true - x_pred) ** 2, axis=-1)), axis=0)\n",
    "\n",
    "\n",
    "def valid_prediction_time(\n",
    "    t: Float[Array, \" time\"],\n",
    "    x_true: Float[Array, \"batch time dim\"],\n",
    "    x_pred: Float[Array, \"batch time dim\"],\n",
    "    epsilon: float = 0.2,\n",
    "):\n",
    "    rmse: Float[Array, \" time\"] = root_mean_square_error(x_true, x_pred)\n",
    "    return t[jnp.argmax(rmse >= epsilon)]"
   ]
  },
  {
   "cell_type": "code",
   "execution_count": 3,
   "id": "63bb73a3",
   "metadata": {},
   "outputs": [
    {
     "name": "stderr",
     "output_type": "stream",
     "text": [
      "100%|██████████| 3/3 [00:25<00:00,  8.35s/it]\n",
      "100%|██████████| 3/3 [00:36<00:00, 12.17s/it]\n",
      "100%|██████████| 3/3 [00:31<00:00, 10.65s/it]\n"
     ]
    }
   ],
   "source": [
    "downsample = 2\n",
    "system_dict = dict()\n",
    "for system in SYSTEMS:\n",
    "    _, transform = (\n",
    "        TimeSeriesDataset.from_hdf5(datadir / DATASET_PATHS[system][\"train\"])\n",
    "        .downsample(downsample)\n",
    "        .add_noise(0.0)\n",
    "        .standardize()\n",
    "    )\n",
    "    dataset_test = (\n",
    "        TimeSeriesDataset.from_hdf5(datadir / DATASET_PATHS[system][\"test\"])\n",
    "        .add_noise(0.0)\n",
    "        .apply_transform(transform)\n",
    "    )\n",
    "\n",
    "    n_short = 750\n",
    "    t_short = dataset_test.t[0, :n_short]\n",
    "    u_short_batch = dataset_test.u[:, :n_short]\n",
    "    del dataset_test\n",
    "    t_short_norm = np.arange(n_short) * 0.01\n",
    "    exp_dict = dict()\n",
    "    for exp_type in tqdm((\"vanilla\", \"tangent_evolution\", \"neighborhood\")):\n",
    "        vpt = []\n",
    "        for key in (0, 10, 20, 30, 40):\n",
    "            model = load_experiment(\n",
    "                exp_type,\n",
    "                key,\n",
    "                downsample,\n",
    "                2,\n",
    "                0.0,\n",
    "                rootdir=Path(f\"../../results/best/{system}\"),\n",
    "            )\n",
    "            u_pred_batch = solve_batch(model, t_short, u_short_batch[:, 0])\n",
    "            vpt.append(valid_prediction_time(t_short_norm, u_short_batch, u_pred_batch))\n",
    "        exp_dict[exp_type] = np.asarray(vpt)\n",
    "    system_dict[system] = exp_dict"
   ]
  },
  {
   "cell_type": "code",
   "execution_count": null,
   "id": "e95c69c7",
   "metadata": {},
   "outputs": [],
   "source": [
    "# for k, v in system_dict.items():\n",
    "#     savepath = Path(f\"../../results_analysis/{k}/valid_prediction_time.npz\")\n",
    "#     savepath.parent.mkdir(parents=True, exist_ok=True)\n",
    "#     np.savez(savepath, v)"
   ]
  },
  {
   "cell_type": "code",
   "execution_count": 5,
   "id": "04d35192",
   "metadata": {},
   "outputs": [
    {
     "data": {
      "text/plain": [
       "<matplotlib.legend.Legend at 0x14e8c40427b0>"
      ]
     },
     "execution_count": 5,
     "metadata": {},
     "output_type": "execute_result"
    },
    {
     "data": {
      "image/png": "[encoded data removed]",
      "text/plain": [
       "<Figure size 700x400 with 1 Axes>"
      ]
     },
     "metadata": {},
     "output_type": "display_data"
    }
   ],
   "source": [
    "fig, ax = plt.subplots(1, 1, figsize=(7, 4))\n",
    "x = np.arange(3) * 1.2\n",
    "width = 0.25\n",
    "LABEL_DICT = {\n",
    "    \"vanilla\": \"MSE only\",\n",
    "    \"tangent_evolution\": \"$DF^T$ matching (ideal)\",\n",
    "    \"neighborhood\": \"Neighborhood (ours)\",\n",
    "}\n",
    "for s in system_dict.keys():\n",
    "    for i, (exp_type, label) in enumerate(LABEL_DICT.items()):\n",
    "        vpt_mean = np.asarray(\n",
    "            [np.mean(system_dict[s][exp_type]) for s in system_dict.keys()]\n",
    "        )\n",
    "        vpt_std = np.asarray(\n",
    "            [np.std(system_dict[s][exp_type]) for s in system_dict.keys()]\n",
    "        )\n",
    "\n",
    "        ax.bar(\n",
    "            x + i * width,\n",
    "            vpt_mean,\n",
    "            width,\n",
    "            yerr=vpt_std,\n",
    "            label=label,\n",
    "            color=COLOR_DICT[exp_type],\n",
    "            capsize=4,\n",
    "        )\n",
    "ax.set_xticks(x + width, [\"Lorenz\", \"Rössler\", \"Hyperchaotic Chen\"])\n",
    "ax.set_ylabel(\"Valid Prediction Time\")\n",
    "ax.set_ylim((0.0, 5.0))\n",
    "patches, labels = ax.get_legend_handles_labels()\n",
    "fig.legend(patches[:3], labels[:3], loc=\"outside center right\", fontsize=\"medium\")"
   ]
  },
  {
   "cell_type": "code",
   "execution_count": 6,
   "id": "4a9d043e",
   "metadata": {},
   "outputs": [],
   "source": [
    "fig.savefig(\"../../figures/valid_prediction_times.pdf\", dpi=1200)"
   ]
  },
  {
   "cell_type": "code",
   "execution_count": null,
   "id": "cdcf29f7",
   "metadata": {},
   "outputs": [],
   "source": []
  }
 ],
 "metadata": {
  "kernelspec": {
   "display_name": "sandbox",
   "language": "python",
   "name": "python3"
  },
  "language_info": {
   "codemirror_mode": {
    "name": "ipython",
    "version": 3
   },
   "file_extension": ".py",
   "mimetype": "text/x-python",
   "name": "python",
   "nbconvert_exporter": "python",
   "pygments_lexer": "ipython3",
   "version": "3.13.2"
  }
 },
 "nbformat": 4,
 "nbformat_minor": 5
}
