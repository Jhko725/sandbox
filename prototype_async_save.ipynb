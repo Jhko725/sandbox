{
 "cells": [
  {
   "cell_type": "code",
   "execution_count": 17,
   "id": "34ae04dd",
   "metadata": {},
   "outputs": [],
   "source": [
    "from pathlib import Path\n",
    "from typing import Any\n",
    "\n",
    "import equinox as eqx\n",
    "import hydra\n",
    "import jax\n",
    "import matplotlib.pyplot as plt\n",
    "import more_itertools\n",
    "import orbax.checkpoint as ocp\n",
    "from jaxtyping import PyTree\n",
    "from omegaconf import DictConfig, OmegaConf\n",
    "\n",
    "\n",
    "jax.config.update(\"jax_enable_x64\", True)\n",
    "plt.style.use(\"matplotlib_utils.styles.dash_gridded\")\n",
    "\n",
    "datadir = Path(\"../../data\")"
   ]
  },
  {
   "cell_type": "code",
   "execution_count": 2,
   "id": "0bde997a",
   "metadata": {},
   "outputs": [
    {
     "data": {
      "text/plain": [
       "Array(False, dtype=bool)"
      ]
     },
     "execution_count": 2,
     "metadata": {},
     "output_type": "execute_result"
    }
   ],
   "source": [
    "config_dict = {\n",
    "    \"_target_\": \"dynamics_discovery.models.NeuralODE\",\n",
    "    \"dim\": 3,\n",
    "    \"width\": 32,\n",
    "    \"depth\": 3,\n",
    "    \"activation\": {\"_target_\": \"hydra.utils.get_method\", \"path\": \"jax.nn.gelu\"},\n",
    "    \"solver\": {\"_target_\": \"diffrax.Tsit5\"},\n",
    "    \"rtol\": 1e-4,\n",
    "    \"atol\": 1e-6,\n",
    "    \"dt0\": None,\n",
    "    \"key\": 0,\n",
    "}\n",
    "\n",
    "config = OmegaConf.create(config_dict)\n",
    "model = hydra.utils.instantiate(config)\n",
    "\n",
    "\n",
    "def change_model(tree: PyTree[Any, \" T\"]) -> PyTree[Any, \" T\"]:\n",
    "    tree_array, tree_rest = eqx.partition(tree, eqx.is_inexact_array)\n",
    "    tree_array_new = jax.tree.map(lambda x: x * 3, tree_array)\n",
    "    return eqx.combine(tree_array_new, tree_rest)\n",
    "\n",
    "\n",
    "model_new = change_model(model)\n",
    "eqx.tree_equal(model_new, model)"
   ]
  },
  {
   "cell_type": "code",
   "execution_count": 3,
   "id": "245ff30c",
   "metadata": {},
   "outputs": [],
   "source": [
    "def save_model(\n",
    "    model: PyTree,\n",
    "    config: dict | OmegaConf,\n",
    "    savedir: str | Path,\n",
    "    step_number: int = 0,\n",
    "    options: ocp.CheckpointManagerOptions | None = None,\n",
    ") -> None:\n",
    "    if isinstance(config, DictConfig):\n",
    "        config = OmegaConf.to_container(config, resolve=True)\n",
    "    if options is None:\n",
    "        options = ocp.CheckpointManagerOptions()\n",
    "\n",
    "    with ocp.CheckpointManager(\n",
    "        Path(savedir).resolve(), options=options, metadata=config\n",
    "    ) as mngr:\n",
    "        mngr.save(\n",
    "            step_number, args=ocp.args.StandardSave(eqx.filter(model, eqx.is_array))\n",
    "        )\n",
    "\n",
    "\n",
    "save_model(model_new, config, \"./test\")"
   ]
  },
  {
   "cell_type": "code",
   "execution_count": 22,
   "id": "42d591ca",
   "metadata": {},
   "outputs": [],
   "source": [
    "def _infer_step(ckpt_dir: Path) -> int:\n",
    "    \"\"\"Given a checkpoint directory created by orbax.checkpoint consisting of a\n",
    "    checkpoint from a single train step, determine and return the corresponding step\n",
    "    number.\"\"\"\n",
    "    ckpt_step_dirs = filter(\n",
    "        lambda p: p.is_dir() and p.stem.isnumeric(), ckpt_dir.iterdir()\n",
    "    )\n",
    "    try:\n",
    "        return int(more_itertools.one(ckpt_step_dirs).stem)\n",
    "    except ValueError:\n",
    "        raise ValueError(\n",
    "            \"\"\"Given directory contains checkpoints from multiple steps, and thus step \n",
    "            cannot be inferred.\"\"\"\n",
    "        )\n",
    "\n",
    "\n",
    "def load_model(\n",
    "    loaddir: str | Path,\n",
    "    step_number: int | None = None,\n",
    "    options: ocp.CheckpointManagerOptions | None = None,\n",
    ") -> PyTree:\n",
    "    \"\"\"Loads model from a checkpoint created by the `save_model` function.\n",
    "\n",
    "    loaddir: Directory containing the checkpoints\n",
    "    step_number: Number corresponding to the specific checkpoint\n",
    "    \"\"\"\n",
    "    options = ocp.CheckpointManagerOptions() if options is None else options\n",
    "\n",
    "    loaddir = Path(loaddir).resolve()\n",
    "    if step_number is None:\n",
    "        step_number = _infer_step(loaddir)\n",
    "\n",
    "    with ocp.CheckpointManager(loaddir, options=options) as mngr_load:\n",
    "        model_config = mngr_load.metadata().custom_metadata\n",
    "        model_backbone = hydra.utils.instantiate(OmegaConf.create(model_config))\n",
    "\n",
    "        weights_backbone, rest = eqx.partition(model_backbone, eqx.is_array_like)\n",
    "        weights_load = mngr_load.restore(\n",
    "            step_number,\n",
    "            args=ocp.args.StandardRestore(weights_backbone),\n",
    "        )\n",
    "    return eqx.combine(weights_load, rest)\n"
   ]
  },
  {
   "cell_type": "code",
   "execution_count": 5,
   "id": "60f484f0",
   "metadata": {},
   "outputs": [
    {
     "data": {
      "text/plain": [
       "Array(True, dtype=bool)"
      ]
     },
     "execution_count": 5,
     "metadata": {},
     "output_type": "execute_result"
    }
   ],
   "source": [
    "eqx.tree_equal(model_new, load_model(\"./test\"))"
   ]
  },
  {
   "cell_type": "code",
   "execution_count": 23,
   "id": "3158fd6a",
   "metadata": {},
   "outputs": [],
   "source": [
    "model_load = load_model(\n",
    "    \"results/lorenz63_downsample=40/len=2/lr=0.002_noise=0.0_key=0.eqx\"\n",
    ")"
   ]
  },
  {
   "cell_type": "code",
   "execution_count": null,
   "id": "9f3cb5cd",
   "metadata": {},
   "outputs": [],
   "source": []
  },
  {
   "cell_type": "code",
   "execution_count": 21,
   "id": "3407cd33",
   "metadata": {},
   "outputs": [
    {
     "data": {
      "text/plain": [
       "98"
      ]
     },
     "execution_count": 21,
     "metadata": {},
     "output_type": "execute_result"
    }
   ],
   "source": [
    "_infer_step(Path(\"results/lorenz63_downsample=40/len=2/lr=0.002_noise=0.0_key=0.eqx\"))"
   ]
  },
  {
   "cell_type": "code",
   "execution_count": 13,
   "id": "fd6325e1",
   "metadata": {},
   "outputs": [
    {
     "data": {
      "text/plain": [
       "[PosixPath('results/lorenz63_downsample=40/len=2/lr=0.002_noise=0.0_key=0.eqx/98')]"
      ]
     },
     "execution_count": 13,
     "metadata": {},
     "output_type": "execute_result"
    }
   ],
   "source": [
    "list(\n",
    "    filter(\n",
    "        lambda p: p.is_dir() and p.stem.isnumeric(),\n",
    "        Path(\n",
    "            \"results/lorenz63_downsample=40/len=2/lr=0.002_noise=0.0_key=0.eqx\"\n",
    "        ).iterdir(),\n",
    "    )\n",
    ")"
   ]
  },
  {
   "cell_type": "code",
   "execution_count": null,
   "id": "d8176d3d",
   "metadata": {},
   "outputs": [],
   "source": []
  }
 ],
 "metadata": {
  "kernelspec": {
   "display_name": "sandbox",
   "language": "python",
   "name": "python3"
  },
  "language_info": {
   "codemirror_mode": {
    "name": "ipython",
    "version": 3
   },
   "file_extension": ".py",
   "mimetype": "text/x-python",
   "name": "python",
   "nbconvert_exporter": "python",
   "pygments_lexer": "ipython3",
   "version": "3.12.9"
  }
 },
 "nbformat": 4,
 "nbformat_minor": 5
}
